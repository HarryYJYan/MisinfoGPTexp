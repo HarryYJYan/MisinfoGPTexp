{
 "cells": [
  {
   "cell_type": "code",
   "execution_count": 1,
   "metadata": {},
   "outputs": [],
   "source": [
    "import os\n",
    "import json "
   ]
  },
  {
   "cell_type": "code",
   "execution_count": 3,
   "metadata": {},
   "outputs": [
    {
     "data": {
      "text/plain": [
       "['./stim/5_SUPREME COURT GRANTS BLACK MAN “40 ACRES OF LAND AND A MULE”2022-08-26-17-20-53.jpg',\n",
       " './stim/59_trump-ally-lindsey-graham-must-testify-in-georgia-grand-jury-investigation-federal-judge-rules2022-09-03-21-26-53.jpg',\n",
       " './stim/1_“Blacks 4 Trump” Group Caught Using Blackface To Pretend They Have Black Members2022-08-26-17-22-32.jpg',\n",
       " './stim/19_WOW! Biden Caught Fake Driving — Someone Else Is Steering Vehicle — It Was All a Stunt! — VIDEO and PICS2022-08-26-23-49-09.jpg',\n",
       " './stim/2_Biden Buys Film Rights To New ‘MAD’ Movie Just To Piss Off Trump2022-08-26-00-30-46.jpg',\n",
       " './stim/11_biden-orders-arrest-of-black-leaders-while-his-elites-mock-appalachia-flood-victims2022-08-24-21-32-47.jpg',\n",
       " './stim/17_QAnon Wants You To Pee On Your Kids So Democrats Can’t Smell Their Youthful Blood2022-08-26-17-25-36.jpg',\n",
       " './stim/68_melania-trump-felt-violated-by-fbi-agents-contaminating-her-bedroom-during-mar-lago-raid-report-says2022-09-03-21-55-27.jpg',\n",
       " './stim/70_trump-revives-claims-biden-has-dementia-after-anti-maga-speech2022-09-03-22-43-07.jpg',\n",
       " './stim/69_trump-pledges-to-pardon-some-jan-capitol-riot-defendants2022-09-03-22-42-20.jpg',\n",
       " './stim/4_Steve Bannon Is Now Selling “Freedom Yogurt” Made Of White People’s Semen2022-08-26-17-24-12.jpg',\n",
       " './stim/66_hunter-biden-secured-dinner-for-client-at-chinese-embassy-following-luncheon-hosted-by-vp-biden-emai2022-09-03-22-37-08.jpg',\n",
       " './stim/6_Trump Is Suing His Grandchildren For Violating NDA’s He Made Them Sign As Infants2022-08-26-17-29-37.jpg',\n",
       " './stim/18_Special Forces Arrest Deep State Dr. Anthony Fauci2022-08-25-18-22-35.jpg',\n",
       " './stim/67_mccarthy-says-democracy-is-on-the-ballot-in-midterms-blaming-dems-for-attacking-freedoms2022-09-03-22-45-42.jpg',\n",
       " './stim/63_border-patrol-agents-arrest-dozens-of-illegal-immigrant-criminals-gang-members2022-09-03-22-36-49.jpg',\n",
       " './stim/9_Trump Threatens To Sue Founding Fathers2022-08-26-00-46-37.jpg',\n",
       " './stim/54_digital-world-acquisition-corp-urges-shareholders-to-delay-merger-with-trump-media2022-09-03-21-36-58.jpg',\n",
       " './stim/3_Staring At Hard Times, Tucker Carlson May Be Forced To Sell Bow Tie Collection2022-08-26-00-49-36.jpg',\n",
       " './stim/58_the-dangers-of-trump-prosecution-syndrome2022-09-03-21-56-30.jpg',\n",
       " './stim/56_garland-perilous-path-to-prosecuting-trump2022-09-03-21-56-50.jpg',\n",
       " './stim/51_biden-administration-cancels-another-9-billion-in-student-loan-debt-for-former-for-profit-college-st2022-09-03-22-36-58.jpg',\n",
       " './stim/10_Trump Voter Wants Taco Bell Shut Down For ‘Being Too Mexican’2022-08-26-00-31-55.jpg',\n",
       " './stim/20_YOKO ONO_ “I HAD AN AFFAIR WITH HILLARY CLINTON IN THE ’70S”2022-08-26-17-33-06.jpg',\n",
       " './stim/64_democratic-rep-sean-patrick-maloney-has-history-of-employing-convicts2022-09-03-22-42-10.jpg',\n",
       " './stim/13_Delta Force Arrests Chelsea Clinton2022-08-26-00-47-43.jpg',\n",
       " './stim/61_biden-anti-maga-speech-was-ridiculous-campaign-pac-chair2022-09-03-22-39-27.jpg',\n",
       " './stim/12_breaking-hillary-clinton-found-dead-under-suspicious-circumstances2022-04-07-21-30-23.jpg',\n",
       " './stim/60_trump-truth-social-barred-from-google-play-store-over-content-moderation-concerns2022-09-03-21-55-19.jpg',\n",
       " './stim/57_is-there-such-thing-as-joe-biden-superfan2022-09-03-22-06-29.jpg',\n",
       " './stim/55_ex-nypd-officer-sentenced-to-record-10-years-for-jan-riot2022-09-03-21-20-53.jpg',\n",
       " './stim/15_ilhan omar spits on the tomb.png',\n",
       " './stim/62_bill-bennett-on-falling-reading-and-math-scores-devastation-is-the-right-word2022-09-03-22-38-35.jpg',\n",
       " './stim/16_malia obama arrested again.png',\n",
       " './stim/8_Trump Routinely Forced Staffers To Shred And Eat White House Documents2022-08-26-17-35-30.jpg',\n",
       " './stim/65_gig-workers-tire-of-waiting-for-action-from-biden-white-house2022-09-03-22-01-12.jpg',\n",
       " './stim/52_biden-has-tamped-down-talk-of-primary-challenge-for-now2022-09-03-22-00-49.jpg',\n",
       " './stim/14_f_Kamala military are cowards.png',\n",
       " './stim/7_Trump Orders Americans To Stop Eating Chinese Food2022-08-26-01-07-25.jpg',\n",
       " './stim/53_biden-warns-that-american-values-are-under-assault-by-trump-led-extremism2022-09-03-22-04-10.jpg']"
      ]
     },
     "execution_count": 3,
     "metadata": {},
     "output_type": "execute_result"
    }
   ],
   "source": [
    "[\"./stim/\"+ i for i in os.listdir(\"stim/\")]"
   ]
  },
  {
   "cell_type": "code",
   "execution_count": 36,
   "metadata": {},
   "outputs": [
    {
     "name": "stdout",
     "output_type": "stream",
     "text": [
      "{stimulus:\" stim/bb09.png\", correct_response:\"f\"},\n",
      "{stimulus:\" stim/bb08.png\", correct_response:\"f\"},\n",
      "{stimulus:\" stim/.DS_Store\", correct_response:\"f\"},\n",
      "{stimulus:\" stim/rh01.png\", correct_response:\"f\"},\n",
      "{stimulus:\" stim/rb09.png\", correct_response:\"f\"},\n",
      "{stimulus:\" stim/rb08.png\", correct_response:\"f\"},\n",
      "{stimulus:\" stim/rb11.png\", correct_response:\"f\"},\n",
      "{stimulus:\" stim/rb05.png\", correct_response:\"f\"},\n",
      "{stimulus:\" stim/rb04.png\", correct_response:\"f\"},\n",
      "{stimulus:\" stim/rb10.png\", correct_response:\"f\"},\n",
      "{stimulus:\" stim/rb06.png\", correct_response:\"f\"},\n",
      "{stimulus:\" stim/rb12.png\", correct_response:\"f\"},\n",
      "{stimulus:\" stim/rb07.png\", correct_response:\"f\"},\n",
      "{stimulus:\" stim/rb03.png\", correct_response:\"f\"},\n",
      "{stimulus:\" stim/rb02.png\", correct_response:\"f\"},\n",
      "{stimulus:\" stim/rb01.png\", correct_response:\"f\"},\n",
      "{stimulus:\" stim/bb03.png\", correct_response:\"f\"},\n",
      "{stimulus:\" stim/bb02.png\", correct_response:\"f\"},\n",
      "{stimulus:\" stim/bb01.png\", correct_response:\"f\"},\n",
      "{stimulus:\" stim/bb05.png\", correct_response:\"f\"},\n",
      "{stimulus:\" stim/bb04.png\", correct_response:\"f\"},\n",
      "{stimulus:\" stim/bb06.png\", correct_response:\"f\"},\n",
      "{stimulus:\" stim/bb07.png\", correct_response:\"f\"},\n"
     ]
    }
   ],
   "source": [
    "for i in os.listdir(\"stim/\"):\n",
    "    d = {\"stimulus\": \"stim/{}\".format(i), \"correct_response\": \"f\"}\n",
    "    #d = json.dumps(stim_dict)  +\",\"\n",
    "    print(\"{\" + \"stimulus\" + \":\\\" \" + d[\"stimulus\"] + \"\\\", \" + \"correct_response\" + \":\\\"\" + d[\"correct_response\"] + \"\\\"},\")\n",
    "\n"
   ]
  },
  {
   "cell_type": "code",
   "execution_count": 25,
   "metadata": {},
   "outputs": [
    {
     "data": {
      "text/plain": [
       "['bb09.png',\n",
       " 'bb08.png',\n",
       " '.DS_Store',\n",
       " 'rh01.png',\n",
       " 'rb09.png',\n",
       " 'rb08.png',\n",
       " 'rb11.png',\n",
       " 'rb05.png',\n",
       " 'rb04.png',\n",
       " 'rb10.png',\n",
       " 'rb06.png',\n",
       " 'rb12.png',\n",
       " 'rb07.png',\n",
       " 'rb03.png',\n",
       " 'rb02.png',\n",
       " 'rb01.png',\n",
       " 'bb03.png',\n",
       " 'bb02.png',\n",
       " 'bb01.png',\n",
       " 'bb05.png',\n",
       " 'bb04.png',\n",
       " 'bb06.png',\n",
       " 'bb07.png']"
      ]
     },
     "execution_count": 25,
     "metadata": {},
     "output_type": "execute_result"
    }
   ],
   "source": [
    "os.listdir(\"stim/\")"
   ]
  },
  {
   "cell_type": "code",
   "execution_count": 28,
   "metadata": {},
   "outputs": [
    {
     "ename": "KeyError",
     "evalue": "'stimulus'",
     "output_type": "error",
     "traceback": [
      "\u001b[0;31m---------------------------------------------------------------------------\u001b[0m",
      "\u001b[0;31mKeyError\u001b[0m                                  Traceback (most recent call last)",
      "\u001b[1;32m/Users/harryan/Desktop/jsPsych/cheat_sheet.ipynb Cell 5\u001b[0m in \u001b[0;36m<cell line: 1>\u001b[0;34m()\u001b[0m\n\u001b[0;32m----> <a href='vscode-notebook-cell:/Users/harryan/Desktop/jsPsych/cheat_sheet.ipynb#W3sZmlsZQ%3D%3D?line=0'>1</a>\u001b[0m \u001b[39mprint\u001b[39m(\u001b[39m'\u001b[39;49m\u001b[39m{\u001b[39;49m\u001b[39mstimulus: \u001b[39;49m\u001b[39m\"\u001b[39;49m\u001b[39mstim/\u001b[39;49m\u001b[39m{}\u001b[39;49;00m\u001b[39m\"\u001b[39;49m\u001b[39m, correct_response: \u001b[39;49m\u001b[39m\"\u001b[39;49m\u001b[39mf\u001b[39;49m\u001b[39m\"\u001b[39;49m\u001b[39m}\u001b[39;49m\u001b[39m'\u001b[39;49m\u001b[39m.\u001b[39;49mformat(os\u001b[39m.\u001b[39;49mlistdir(\u001b[39m\"\u001b[39;49m\u001b[39mstim/\u001b[39;49m\u001b[39m\"\u001b[39;49m)[\u001b[39m0\u001b[39;49m]))\n",
      "\u001b[0;31mKeyError\u001b[0m: 'stimulus'"
     ]
    }
   ],
   "source": [
    "print('{stimulus: \"stim/{}\", correct_response: \"f\"}'.format(os.listdir(\"stim/\")[0]))"
   ]
  },
  {
   "cell_type": "code",
   "execution_count": null,
   "metadata": {},
   "outputs": [],
   "source": []
  }
 ],
 "metadata": {
  "kernelspec": {
   "display_name": "Python 3.10.8 64-bit",
   "language": "python",
   "name": "python3"
  },
  "language_info": {
   "codemirror_mode": {
    "name": "ipython",
    "version": 3
   },
   "file_extension": ".py",
   "mimetype": "text/x-python",
   "name": "python",
   "nbconvert_exporter": "python",
   "pygments_lexer": "ipython3",
   "version": "3.10.8"
  },
  "orig_nbformat": 4,
  "vscode": {
   "interpreter": {
    "hash": "7e1998ff7f8aa20ada591c520b972326324e5ea05489af9e422744c7c09f6dad"
   }
  }
 },
 "nbformat": 4,
 "nbformat_minor": 2
}
